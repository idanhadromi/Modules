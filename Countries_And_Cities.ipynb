{
 "cells": [
  {
   "cell_type": "markdown",
   "id": "28260435",
   "metadata": {},
   "source": [
    "# Countries and Cities"
   ]
  },
  {
   "cell_type": "code",
   "execution_count": 1,
   "id": "a5c8dd24",
   "metadata": {},
   "outputs": [],
   "source": [
    "from bs4 import BeautifulSoup\n",
    "import requests\n",
    "import json\n",
    "import pandas as pd"
   ]
  },
  {
   "cell_type": "code",
   "execution_count": 2,
   "id": "88021143",
   "metadata": {},
   "outputs": [],
   "source": [
    "url = \"https://countriesnow.space/api/v0.1/countries/population/cities\"\n",
    "response = requests.get(url)\n",
    "data = response.text\n",
    "soup = BeautifulSoup(data,'html.parser')\n",
    "\n",
    "cityCountry = pd.DataFrame({\"city\":[],\"country\":[]})\n",
    "for index in json.loads(soup.text)['data']:\n",
    "    city = index['city'].upper().replace(\"'\",\"\")\n",
    "    country = index['country'].upper().replace(\"'\",\"\")\n",
    "    cityCountry = cityCountry.append({\"city\":city,\"country\":country}, ignore_index=True)"
   ]
  },
  {
   "cell_type": "code",
   "execution_count": 3,
   "id": "01eafb87",
   "metadata": {},
   "outputs": [
    {
     "data": {
      "text/plain": [
       "(4503, 2)"
      ]
     },
     "metadata": {},
     "output_type": "display_data"
    }
   ],
   "source": [
    "pd.set_option('display.max_rows', None)\n",
    "pd.set_option('display.max_columns', None)\n",
    "\n",
    "display(cityCountry.shape)"
   ]
  },
  {
   "cell_type": "code",
   "execution_count": 4,
   "id": "cb9dc27c",
   "metadata": {},
   "outputs": [
    {
     "data": {
      "text/html": [
       "<div>\n",
       "<style scoped>\n",
       "    .dataframe tbody tr th:only-of-type {\n",
       "        vertical-align: middle;\n",
       "    }\n",
       "\n",
       "    .dataframe tbody tr th {\n",
       "        vertical-align: top;\n",
       "    }\n",
       "\n",
       "    .dataframe thead th {\n",
       "        text-align: right;\n",
       "    }\n",
       "</style>\n",
       "<table border=\"1\" class=\"dataframe\">\n",
       "  <thead>\n",
       "    <tr style=\"text-align: right;\">\n",
       "      <th></th>\n",
       "      <th>city</th>\n",
       "      <th>country</th>\n",
       "    </tr>\n",
       "  </thead>\n",
       "  <tbody>\n",
       "    <tr>\n",
       "      <th>2318</th>\n",
       "      <td>ASHDOD</td>\n",
       "      <td>ISRAEL</td>\n",
       "    </tr>\n",
       "    <tr>\n",
       "      <th>2319</th>\n",
       "      <td>ASHQELON</td>\n",
       "      <td>ISRAEL</td>\n",
       "    </tr>\n",
       "    <tr>\n",
       "      <th>2320</th>\n",
       "      <td>BAT YAM</td>\n",
       "      <td>ISRAEL</td>\n",
       "    </tr>\n",
       "    <tr>\n",
       "      <th>2321</th>\n",
       "      <td>BEER SHEVA</td>\n",
       "      <td>ISRAEL</td>\n",
       "    </tr>\n",
       "    <tr>\n",
       "      <th>2322</th>\n",
       "      <td>BENE BERAQ</td>\n",
       "      <td>ISRAEL</td>\n",
       "    </tr>\n",
       "    <tr>\n",
       "      <th>2323</th>\n",
       "      <td>HAIFA</td>\n",
       "      <td>ISRAEL</td>\n",
       "    </tr>\n",
       "    <tr>\n",
       "      <th>2324</th>\n",
       "      <td>HOLON</td>\n",
       "      <td>ISRAEL</td>\n",
       "    </tr>\n",
       "    <tr>\n",
       "      <th>2325</th>\n",
       "      <td>JERUSALEM</td>\n",
       "      <td>ISRAEL</td>\n",
       "    </tr>\n",
       "    <tr>\n",
       "      <th>2326</th>\n",
       "      <td>NETANYA</td>\n",
       "      <td>ISRAEL</td>\n",
       "    </tr>\n",
       "    <tr>\n",
       "      <th>2327</th>\n",
       "      <td>PETAH TIQWA</td>\n",
       "      <td>ISRAEL</td>\n",
       "    </tr>\n",
       "    <tr>\n",
       "      <th>2328</th>\n",
       "      <td>RAMAT GAN</td>\n",
       "      <td>ISRAEL</td>\n",
       "    </tr>\n",
       "    <tr>\n",
       "      <th>2329</th>\n",
       "      <td>REHOVOT</td>\n",
       "      <td>ISRAEL</td>\n",
       "    </tr>\n",
       "    <tr>\n",
       "      <th>2330</th>\n",
       "      <td>RISHON LEZIYYON</td>\n",
       "      <td>ISRAEL</td>\n",
       "    </tr>\n",
       "    <tr>\n",
       "      <th>2331</th>\n",
       "      <td>TEL AVIV-YAFO</td>\n",
       "      <td>ISRAEL</td>\n",
       "    </tr>\n",
       "  </tbody>\n",
       "</table>\n",
       "</div>"
      ],
      "text/plain": [
       "                 city country\n",
       "2318           ASHDOD  ISRAEL\n",
       "2319         ASHQELON  ISRAEL\n",
       "2320          BAT YAM  ISRAEL\n",
       "2321       BEER SHEVA  ISRAEL\n",
       "2322       BENE BERAQ  ISRAEL\n",
       "2323            HAIFA  ISRAEL\n",
       "2324            HOLON  ISRAEL\n",
       "2325        JERUSALEM  ISRAEL\n",
       "2326          NETANYA  ISRAEL\n",
       "2327      PETAH TIQWA  ISRAEL\n",
       "2328        RAMAT GAN  ISRAEL\n",
       "2329          REHOVOT  ISRAEL\n",
       "2330  RISHON LEZIYYON  ISRAEL\n",
       "2331    TEL AVIV-YAFO  ISRAEL"
      ]
     },
     "execution_count": 4,
     "metadata": {},
     "output_type": "execute_result"
    }
   ],
   "source": [
    "cityCountry.loc[cityCountry[\"country\"]==\"ISRAEL\",:]"
   ]
  },
  {
   "cell_type": "code",
   "execution_count": null,
   "id": "2f8ed237",
   "metadata": {},
   "outputs": [],
   "source": []
  }
 ],
 "metadata": {
  "kernelspec": {
   "display_name": "Python 3",
   "language": "python",
   "name": "python3"
  },
  "language_info": {
   "codemirror_mode": {
    "name": "ipython",
    "version": 3
   },
   "file_extension": ".py",
   "mimetype": "text/x-python",
   "name": "python",
   "nbconvert_exporter": "python",
   "pygments_lexer": "ipython3",
   "version": "3.8.8"
  }
 },
 "nbformat": 4,
 "nbformat_minor": 5
}
