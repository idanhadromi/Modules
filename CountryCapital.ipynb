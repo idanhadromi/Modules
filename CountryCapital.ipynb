{
 "cells": [
  {
   "cell_type": "markdown",
   "metadata": {},
   "source": [
    "# Country Capital"
   ]
  },
  {
   "cell_type": "code",
   "execution_count": 498,
   "metadata": {},
   "outputs": [
    {
     "data": {
      "text/html": [
       "<div>\n",
       "<style scoped>\n",
       "    .dataframe tbody tr th:only-of-type {\n",
       "        vertical-align: middle;\n",
       "    }\n",
       "\n",
       "    .dataframe tbody tr th {\n",
       "        vertical-align: top;\n",
       "    }\n",
       "\n",
       "    .dataframe thead th {\n",
       "        text-align: right;\n",
       "    }\n",
       "</style>\n",
       "<table border=\"1\" class=\"dataframe\">\n",
       "  <thead>\n",
       "    <tr style=\"text-align: right;\">\n",
       "      <th></th>\n",
       "      <th>SYMBOL</th>\n",
       "      <th>COUNTRY</th>\n",
       "      <th>CAPITAL</th>\n",
       "      <th>LATITUDE</th>\n",
       "      <th>LONGITUDE</th>\n",
       "      <th>CONTINENT</th>\n",
       "    </tr>\n",
       "  </thead>\n",
       "  <tbody>\n",
       "    <tr>\n",
       "      <th>0</th>\n",
       "      <td>NaN</td>\n",
       "      <td>SOMALILAND</td>\n",
       "      <td>HARGEISA</td>\n",
       "      <td>9.550000</td>\n",
       "      <td>44.050000</td>\n",
       "      <td>AFRICA</td>\n",
       "    </tr>\n",
       "    <tr>\n",
       "      <th>1</th>\n",
       "      <td>GS</td>\n",
       "      <td>SOUTH GEORGIA AND SOUTH SANDWICH ISLANDS</td>\n",
       "      <td>KING EDWARD POINT</td>\n",
       "      <td>-54.283333</td>\n",
       "      <td>-36.500000</td>\n",
       "      <td>ANTARCTICA</td>\n",
       "    </tr>\n",
       "    <tr>\n",
       "      <th>2</th>\n",
       "      <td>TF</td>\n",
       "      <td>FRENCH SOUTHERN AND ANTARCTIC LANDS</td>\n",
       "      <td>PORT-AUX-FRANAIS</td>\n",
       "      <td>-49.350000</td>\n",
       "      <td>70.216667</td>\n",
       "      <td>ANTARCTICA</td>\n",
       "    </tr>\n",
       "    <tr>\n",
       "      <th>3</th>\n",
       "      <td>PS</td>\n",
       "      <td>PALESTINE</td>\n",
       "      <td>JERUSALEM</td>\n",
       "      <td>31.766667</td>\n",
       "      <td>35.233333</td>\n",
       "      <td>ASIA</td>\n",
       "    </tr>\n",
       "    <tr>\n",
       "      <th>4</th>\n",
       "      <td>AX</td>\n",
       "      <td>ALAND ISLANDS</td>\n",
       "      <td>MARIEHAMN</td>\n",
       "      <td>60.116667</td>\n",
       "      <td>19.900000</td>\n",
       "      <td>EUROPE</td>\n",
       "    </tr>\n",
       "  </tbody>\n",
       "</table>\n",
       "</div>"
      ],
      "text/plain": [
       "  SYMBOL                                   COUNTRY            CAPITAL  \\\n",
       "0    NaN                                SOMALILAND           HARGEISA   \n",
       "1     GS  SOUTH GEORGIA AND SOUTH SANDWICH ISLANDS  KING EDWARD POINT   \n",
       "2     TF       FRENCH SOUTHERN AND ANTARCTIC LANDS  PORT-AUX-FRANAIS   \n",
       "3     PS                                 PALESTINE          JERUSALEM   \n",
       "4     AX                             ALAND ISLANDS          MARIEHAMN   \n",
       "\n",
       "    LATITUDE  LONGITUDE   CONTINENT  \n",
       "0   9.550000  44.050000      AFRICA  \n",
       "1 -54.283333 -36.500000  ANTARCTICA  \n",
       "2 -49.350000  70.216667  ANTARCTICA  \n",
       "3  31.766667  35.233333        ASIA  \n",
       "4  60.116667  19.900000      EUROPE  "
      ]
     },
     "execution_count": 498,
     "metadata": {},
     "output_type": "execute_result"
    }
   ],
   "source": [
    "import pandas as pd\n",
    "countryCapital = pd.read_csv('countrycapital.csv', encoding = \"ISO-8859-1\")\n",
    "countryCapital.head()"
   ]
  },
  {
   "cell_type": "code",
   "execution_count": 499,
   "metadata": {},
   "outputs": [
    {
     "data": {
      "text/plain": [
       "['DK', 'IK', 'MARSHALL', 'ISLANDS']"
      ]
     },
     "execution_count": 499,
     "metadata": {},
     "output_type": "execute_result"
    }
   ],
   "source": [
    "# text to list\n",
    "\n",
    "test = '3/DK/454/IK/MARSHALL ISLANDS/'\n",
    "\n",
    "test = test.upper()\n",
    "test = re.sub('\\W',' ',test)\n",
    "test = re.sub('\\d',' ',test)\n",
    "test = test.split()\n",
    "\n",
    "test"
   ]
  },
  {
   "cell_type": "code",
   "execution_count": 501,
   "metadata": {},
   "outputs": [
    {
     "name": "stdout",
     "output_type": "stream",
     "text": [
      "66    DENMARK\n",
      "Name: COUNTRY, dtype: object\n",
      "0\n"
     ]
    }
   ],
   "source": [
    "# source symbol\n",
    "\n",
    "index = 0\n",
    "     \n",
    "# find symbol from text and return country\n",
    "idx = index\n",
    "while idx < len(test):\n",
    "      if len(test[idx])==2:\n",
    "         country = countryCapital.loc[countryCapital['SYMBOL']==test[idx],'COUNTRY']  \n",
    "         if len(country) !=0 :\n",
    "             break\n",
    "         else:\n",
    "             idx+= 1            \n",
    "      else: \n",
    "         idx+= 1\n",
    "\n",
    "print(country)\n",
    "print(index)                  "
   ]
  },
  {
   "cell_type": "code",
   "execution_count": 502,
   "metadata": {},
   "outputs": [],
   "source": [
    "# source country\n",
    "\n",
    "def country (test):\n",
    "    print(test)\n",
    "    index = 0\n",
    "    stringToCountry = []\n",
    "    while index < len(test):\n",
    "        idx = index\n",
    "        while idx < len(test):\n",
    "            country = countryCapital.loc[countryCapital['COUNTRY']==test[idx],'COUNTRY']\n",
    "            if len(country) != 0:\n",
    "               return country\n",
    "            else :\n",
    "                stringToCountry.append( ' '.join(test[index:idx+1]))\n",
    "                country = countryCapital.loc[countryCapital['COUNTRY']== stringToCountry[-1],'COUNTRY']\n",
    "                if len(country) != 0:\n",
    "                  return country\n",
    "                  \n",
    "            idx+=1    \n",
    "        index +=1"
   ]
  },
  {
   "cell_type": "code",
   "execution_count": 503,
   "metadata": {},
   "outputs": [
    {
     "data": {
      "text/plain": [
       "['DK', 'IK', 'HARGEISA', 'DSADAA']"
      ]
     },
     "execution_count": 503,
     "metadata": {},
     "output_type": "execute_result"
    }
   ],
   "source": [
    "# text to list\n",
    "\n",
    "test = '3/DK/454/IK/HARGEISA/dsadaa'\n",
    "\n",
    "test = test.upper()\n",
    "test = re.sub('\\W',' ',test)\n",
    "test = re.sub('\\d',' ',test)\n",
    "test = test.split()\n",
    "\n",
    "test"
   ]
  },
  {
   "cell_type": "code",
   "execution_count": 504,
   "metadata": {},
   "outputs": [],
   "source": [
    "# source capital\n",
    "\n",
    "def capital (test):\n",
    "    index = 0\n",
    "    stringToCapital = []\n",
    "    while index < len(test):\n",
    "        idx = index\n",
    "        while idx < len(test):\n",
    "            capital = countryCapital.loc[countryCapital['CAPITAL']==test[idx],'CAPITAL']\n",
    "            if len(capital) != 0:\n",
    "               return capital\n",
    "            else :\n",
    "                stringToCapital.append( ' '.join(test[index:idx+1]))\n",
    "                capital = countryCapital.loc[countryCapital['CAPITAL']== stringToCapital[-1],'CAPITAL']\n",
    "                if len(capital) != 0:\n",
    "                  return capital\n",
    "                  \n",
    "            idx+=1    \n",
    "        index +=1"
   ]
  },
  {
   "cell_type": "code",
   "execution_count": 505,
   "metadata": {},
   "outputs": [
    {
     "data": {
      "text/plain": [
       "0    HARGEISA\n",
       "Name: CAPITAL, dtype: object"
      ]
     },
     "execution_count": 505,
     "metadata": {},
     "output_type": "execute_result"
    }
   ],
   "source": [
    "x = capital (test)\n",
    "x"
   ]
  },
  {
   "cell_type": "markdown",
   "metadata": {},
   "source": [
    "**Module**"
   ]
  },
  {
   "cell_type": "code",
   "execution_count": 506,
   "metadata": {},
   "outputs": [],
   "source": [
    "# source\n",
    "\n",
    "class CountryCapital :\n",
    "    \n",
    "    def __init__(self):\n",
    "        import pandas as pd \n",
    "        \n",
    "        self.countryCapital_tbl = pd.read_csv('countrycapital.csv', encoding = \"ISO-8859-1\")\n",
    "        self.string = string\n",
    "        self.symbol = None\n",
    "        \n",
    "        \n",
    "    def to_upperCase(self, string):\n",
    "        self.string = self.string.upper()\n",
    "        self.string = re.sub('\\W',' ',self.string)\n",
    "        self.string = re.sub('\\d',' ',self.string)\n",
    "        self.string = self.string.split()\n",
    "        return self.string\n",
    "    \n",
    "    \n",
    "    def Symbol_to_country (self, string ):\n",
    "\n",
    "        self.string = self.to_upperCase(string)\n",
    "        index = 0\n",
    "        idx = index\n",
    "        \n",
    "        while idx < len(self.string):\n",
    "              if len(self.string[idx])==2:\n",
    "                 country = self.countryCapital_tbl.loc[self.countryCapital_tbl['SYMBOL']==self.string[idx],'COUNTRY']  \n",
    "                 if len(country) !=0 :\n",
    "                     return country\n",
    "                 else:\n",
    "                     idx+= 1            \n",
    "              else: \n",
    "                 idx+= 1\n",
    "            \n",
    "\n",
    "    def country_from_text (self, string):\n",
    "        \n",
    "        self.string = self.to_upperCase(string)\n",
    "        index = 0\n",
    "        stringToCountry = []\n",
    "        \n",
    "        while index < len(self.string):\n",
    "            idx = index\n",
    "            while idx < len(self.string):\n",
    "                country = self.countryCapital_tbl.loc[self.countryCapital_tbl['COUNTRY']==self.string[idx],'COUNTRY']\n",
    "                if len(country) != 0:\n",
    "                   return country\n",
    "                else :\n",
    "                    stringToCountry.append( ' '.join(self.string[index:idx+1]))\n",
    "                    country = self.countryCapital_tbl.loc[self.countryCapital_tbl['COUNTRY']== stringToCountry[-1],'COUNTRY']\n",
    "                    if len(country) != 0:\n",
    "                      return country\n",
    "\n",
    "                idx+=1    \n",
    "            index +=1    \n",
    "        \n",
    "      \n",
    "    \n",
    "    def capital (self, string):\n",
    "        \n",
    "        self.string = self.to_upperCase(string)\n",
    "        index = 0\n",
    "        stringToCapital = []\n",
    "        while index < len(self.string):\n",
    "            idx = index\n",
    "            while idx < len(self.string):\n",
    "                capital = countryCapital.loc[countryCapital['CAPITAL']==self.string[idx],'CAPITAL']\n",
    "                if len(capital) != 0:\n",
    "                   return capital\n",
    "                else :\n",
    "                    stringToCapital.append( ' '.join(self.string[index:idx+1]))\n",
    "                    capital = countryCapital.loc[countryCapital['CAPITAL']== stringToCapital[-1],'CAPITAL']\n",
    "                    if len(capital) != 0:\n",
    "                      return capital\n",
    "\n",
    "                idx+=1    \n",
    "            index +=1"
   ]
  },
  {
   "cell_type": "code",
   "execution_count": 507,
   "metadata": {},
   "outputs": [
    {
     "data": {
      "text/plain": [
       "66    DENMARK\n",
       "Name: COUNTRY, dtype: object"
      ]
     },
     "execution_count": 507,
     "metadata": {},
     "output_type": "execute_result"
    }
   ],
   "source": [
    "string = '3/5656/454/IK/HARGEISA/DK'\n",
    "x= CountryCapital().Symbol_to_country(string)\n",
    "x"
   ]
  },
  {
   "cell_type": "code",
   "execution_count": 509,
   "metadata": {},
   "outputs": [
    {
     "data": {
      "text/plain": [
       "0    HARGEISA\n",
       "Name: CAPITAL, dtype: object"
      ]
     },
     "execution_count": 509,
     "metadata": {},
     "output_type": "execute_result"
    }
   ],
   "source": [
    "string = '3/5656/454/IK/HARGEISA/DK'\n",
    "x= CountryCapital().capital(string)\n",
    "x"
   ]
  },
  {
   "cell_type": "code",
   "execution_count": 510,
   "metadata": {},
   "outputs": [
    {
     "data": {
      "text/plain": [
       "109    ISRAEL\n",
       "Name: COUNTRY, dtype: object"
      ]
     },
     "execution_count": 510,
     "metadata": {},
     "output_type": "execute_result"
    }
   ],
   "source": [
    "string = '3/5656/454/IK/HARGEISA/israel'\n",
    "x= CountryCapital().country_from_text(string)\n",
    "x"
   ]
  }
 ],
 "metadata": {
  "kernelspec": {
   "display_name": "Python 3",
   "language": "python",
   "name": "python3"
  },
  "language_info": {
   "codemirror_mode": {
    "name": "ipython",
    "version": 3
   },
   "file_extension": ".py",
   "mimetype": "text/x-python",
   "name": "python",
   "nbconvert_exporter": "python",
   "pygments_lexer": "ipython3",
   "version": "3.8.5"
  }
 },
 "nbformat": 4,
 "nbformat_minor": 4
}
